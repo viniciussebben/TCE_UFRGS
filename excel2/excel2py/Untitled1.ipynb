{
 "cells": [
  {
   "cell_type": "code",
   "execution_count": 26,
   "id": "e67ba3e2",
   "metadata": {},
   "outputs": [],
   "source": [
    "from openpyxl import Workbook\n",
    "orcamento = Workbook()"
   ]
  },
  {
   "cell_type": "code",
   "execution_count": 27,
   "id": "536de685",
   "metadata": {},
   "outputs": [],
   "source": [
    "Novembro = orcamento.active"
   ]
  },
  {
   "cell_type": "code",
   "execution_count": 28,
   "id": "36d1387d",
   "metadata": {},
   "outputs": [],
   "source": [
    "Novembro['A1'] = \"Contas\""
   ]
  },
  {
   "cell_type": "code",
   "execution_count": 29,
   "id": "2a59ec74",
   "metadata": {},
   "outputs": [],
   "source": [
    "Novembro[\"B1\"] = \"Receitas\""
   ]
  },
  {
   "cell_type": "code",
   "execution_count": 30,
   "id": "f918f586",
   "metadata": {},
   "outputs": [],
   "source": [
    "Novembro[\"C1\"] = \"Despesas\"\n",
    "Novembro[\"D1\"] = \"Resultados\""
   ]
  },
  {
   "cell_type": "code",
   "execution_count": 31,
   "id": "58972730",
   "metadata": {},
   "outputs": [],
   "source": [
    "Novembro[\"A2\"] = \"alimentação\"\n",
    "Novembro[\"A3\"] = \"energia\"\n",
    "Novembro[\"A4\"] = \"transporte\""
   ]
  },
  {
   "cell_type": "code",
   "execution_count": null,
   "id": "7592b1b0",
   "metadata": {},
   "outputs": [],
   "source": []
  },
  {
   "cell_type": "code",
   "execution_count": 34,
   "id": "0196f2c9",
   "metadata": {},
   "outputs": [],
   "source": [
    "# Novembro[\"A2\"] = valores[0]\n",
    "Novembro[\"B2\"] = 1000\n",
    "Novembro[\"C2\"] = 200\n",
    "Novembro[\"C3\"] = 200\n",
    "Novembro[\"C4\"] = 100\n",
    "Novembro[\"D2\"] = Novembro[\"B2\"].value - (Novembro[\"C2\"].value + Novembro[\"C3\"].value + Novembro[\"C4\"].value)"
   ]
  },
  {
   "cell_type": "code",
   "execution_count": 35,
   "id": "9b4e5a9b",
   "metadata": {},
   "outputs": [
    {
     "data": {
      "text/plain": [
       "500"
      ]
     },
     "execution_count": 35,
     "metadata": {},
     "output_type": "execute_result"
    }
   ],
   "source": [
    "Novembro[\"D2\"].value"
   ]
  },
  {
   "cell_type": "code",
   "execution_count": 16,
   "id": "2bd795da",
   "metadata": {},
   "outputs": [
    {
     "data": {
      "text/plain": [
       "'Contas'"
      ]
     },
     "execution_count": 16,
     "metadata": {},
     "output_type": "execute_result"
    }
   ],
   "source": [
    "Novembro[\"A1\"].value"
   ]
  },
  {
   "cell_type": "code",
   "execution_count": 17,
   "id": "78e3b094",
   "metadata": {},
   "outputs": [],
   "source": [
    "orcamento.save(\"orcamento.xlsx\")"
   ]
  },
  {
   "cell_type": "code",
   "execution_count": null,
   "id": "113fb0b0",
   "metadata": {},
   "outputs": [],
   "source": []
  }
 ],
 "metadata": {
  "kernelspec": {
   "display_name": "Python 3 (ipykernel)",
   "language": "python",
   "name": "python3"
  },
  "language_info": {
   "codemirror_mode": {
    "name": "ipython",
    "version": 3
   },
   "file_extension": ".py",
   "mimetype": "text/x-python",
   "name": "python",
   "nbconvert_exporter": "python",
   "pygments_lexer": "ipython3",
   "version": "3.9.13"
  }
 },
 "nbformat": 4,
 "nbformat_minor": 5
}
