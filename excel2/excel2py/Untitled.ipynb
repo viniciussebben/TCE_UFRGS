{
 "cells": [
  {
   "cell_type": "code",
   "execution_count": null,
   "id": "8098b8a8",
   "metadata": {},
   "outputs": [],
   "source": [
    "from openpyxl import workbook\n",
    "orcamento = workbook ()\n"
   ]
  },
  {
   "cell_type": "markdown",
   "id": "9404c93d",
   "metadata": {},
   "source": []
  },
  {
   "cell_type": "code",
   "execution_count": null,
   "id": "96491ab3",
   "metadata": {},
   "outputs": [],
   "source": [
    "novembro = orcamento.active\n"
   ]
  },
  {
   "cell_type": "code",
   "execution_count": null,
   "id": "93bb4a0f",
   "metadata": {},
   "outputs": [],
   "source": []
  },
  {
   "cell_type": "markdown",
   "id": "a46ceef8",
   "metadata": {},
   "source": []
  },
  {
   "cell_type": "raw",
   "id": "5a04c23c",
   "metadata": {},
   "source": []
  }
 ],
 "metadata": {
  "kernelspec": {
   "display_name": "Python 3 (ipykernel)",
   "language": "python",
   "name": "python3"
  },
  "language_info": {
   "codemirror_mode": {
    "name": "ipython",
    "version": 3
   },
   "file_extension": ".py",
   "mimetype": "text/x-python",
   "name": "python",
   "nbconvert_exporter": "python",
   "pygments_lexer": "ipython3",
   "version": "3.9.13"
  }
 },
 "nbformat": 4,
 "nbformat_minor": 5
}
