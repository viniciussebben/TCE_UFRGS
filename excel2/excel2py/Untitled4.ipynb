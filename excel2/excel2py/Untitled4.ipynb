{
 "cells": [
  {
   "cell_type": "code",
   "execution_count": 32,
   "id": "90ddd44d",
   "metadata": {},
   "outputs": [
    {
     "name": "stdout",
     "output_type": "stream",
     "text": [
      "Requirement already satisfied: openpyxl in c:\\users\\vinicius.sebben\\anaconda3\\lib\\site-packages (3.0.10)\n",
      "Requirement already satisfied: et_xmlfile in c:\\users\\vinicius.sebben\\anaconda3\\lib\\site-packages (from openpyxl) (1.1.0)\n"
     ]
    }
   ],
   "source": [
    "!pip install openpyxl\n",
    "from openpyxl import Workbook\n",
    "orcamento2 = Workbook()"
   ]
  },
  {
   "cell_type": "code",
   "execution_count": 33,
   "id": "7e0fe051",
   "metadata": {},
   "outputs": [],
   "source": [
    "Novembro = orcamento2.active"
   ]
  },
  {
   "cell_type": "code",
   "execution_count": 34,
   "id": "75855714",
   "metadata": {},
   "outputs": [],
   "source": [
    "Novembro ['a1'] = 'Contas'"
   ]
  },
  {
   "cell_type": "code",
   "execution_count": 35,
   "id": "331290c1",
   "metadata": {},
   "outputs": [],
   "source": [
    "Novembro[\"A2\"] = \"alimentação\""
   ]
  },
  {
   "cell_type": "code",
   "execution_count": 36,
   "id": "2875ddfa",
   "metadata": {},
   "outputs": [],
   "source": [
    "Novembro[\"A3\"] = \"energia\""
   ]
  },
  {
   "cell_type": "code",
   "execution_count": 37,
   "id": "708d7a1b",
   "metadata": {},
   "outputs": [],
   "source": [
    "Novembro[\"A4\"] = \"transporte\""
   ]
  },
  {
   "cell_type": "code",
   "execution_count": 38,
   "id": "c4b07c3b",
   "metadata": {},
   "outputs": [],
   "source": [
    "Novembro[\"A5\"] = \"Total despesas\""
   ]
  },
  {
   "cell_type": "code",
   "execution_count": 39,
   "id": "568f2a25",
   "metadata": {},
   "outputs": [],
   "source": [
    "Novembro[\"C1\"] = \"Receitas\""
   ]
  },
  {
   "cell_type": "code",
   "execution_count": 40,
   "id": "8513f38e",
   "metadata": {},
   "outputs": [],
   "source": [
    "Novembro[\"D1\"] = \"Resultados\""
   ]
  },
  {
   "cell_type": "code",
   "execution_count": 41,
   "id": "4eb194cc",
   "metadata": {},
   "outputs": [],
   "source": [
    "Novembro[\"B2\"] = 200\n",
    "Novembro[\"B3\"] = 300\n",
    "Novembro[\"B4\"] = 400\n",
    "Novembro[\"B5\"] = Novembro[\"B2\"].value + Novembro[\"B3\"].value + Novembro[\"B4\"].value\n",
    "Novembro[\"C2\"] = 1000\n",
    "Novembro[\"D2\"] = Novembro[\"C2\"].value - Novembro[\"B5\"].value"
   ]
  },
  {
   "cell_type": "code",
   "execution_count": 42,
   "id": "d8ac4842",
   "metadata": {},
   "outputs": [
    {
     "data": {
      "text/plain": [
       "100"
      ]
     },
     "execution_count": 42,
     "metadata": {},
     "output_type": "execute_result"
    }
   ],
   "source": [
    "Novembro[\"D2\"].value"
   ]
  },
  {
   "cell_type": "code",
   "execution_count": 43,
   "id": "84b6a1e9",
   "metadata": {},
   "outputs": [],
   "source": [
    "orcamento2.save(\"orcamento2.xlsx\")"
   ]
  },
  {
   "cell_type": "code",
   "execution_count": null,
   "id": "49915ca9",
   "metadata": {},
   "outputs": [],
   "source": []
  }
 ],
 "metadata": {
  "kernelspec": {
   "display_name": "Python 3 (ipykernel)",
   "language": "python",
   "name": "python3"
  },
  "language_info": {
   "codemirror_mode": {
    "name": "ipython",
    "version": 3
   },
   "file_extension": ".py",
   "mimetype": "text/x-python",
   "name": "python",
   "nbconvert_exporter": "python",
   "pygments_lexer": "ipython3",
   "version": "3.9.13"
  }
 },
 "nbformat": 4,
 "nbformat_minor": 5
}
